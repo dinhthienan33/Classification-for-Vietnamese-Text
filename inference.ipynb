{
 "cells": [
  {
   "cell_type": "code",
   "execution_count": 10,
   "metadata": {},
   "outputs": [],
   "source": [
    "import io\n",
    "import pandas as pd\n",
    "import torch\n",
    "import torch.nn as nn\n",
    "from transformers import AutoModel, AutoTokenizer\n",
    "from pyvi import ViTokenizer\n",
    "from dotenv import load_dotenv\n",
    "import os\n",
    "import warnings\n",
    "class EmotionClassifier(nn.Module):\n",
    "    def __init__(self, model_name, n_classes=7):\n",
    "        super(EmotionClassifier, self).__init__()\n",
    "        self.bert = AutoModel.from_pretrained(model_name)\n",
    "        self.drop = nn.Dropout(p=0.3)\n",
    "        self.fc = nn.Linear(self.bert.config.hidden_size, n_classes)\n",
    "        nn.init.normal_(self.fc.weight, std=0.02)\n",
    "        nn.init.normal_(self.fc.bias, 0)\n",
    "\n",
    "    def forward(self, input_ids, attention_mask):\n",
    "        _, output = self.bert(input_ids=input_ids, attention_mask=attention_mask, return_dict=False)\n",
    "        x = self.drop(output)\n",
    "        return self.fc(x)\n",
    "\n",
    "def initialize_model(model_name, model_path, n_classes=7):\n",
    "    model = EmotionClassifier(model_name, n_classes).to(device)\n",
    "    state_dict = torch.load(model_path, map_location=device)\n",
    "    model.load_state_dict(state_dict, strict=False)\n",
    "    model.eval()\n",
    "    return model\n",
    "def load_model_from_path(model_path):\n",
    "    with open(model_path, 'rb') as f:\n",
    "        buffer = io.BytesIO(f.read())\n",
    "    return buffer\n",
    "\n",
    "def initialize_model(model_name, model_path, n_classes=7):\n",
    "    model = EmotionClassifier(model_name, n_classes).to(device)\n",
    "    model_buffer = load_model_from_path(model_path)\n",
    "    state_dict = torch.load(model_buffer, map_location=device)\n",
    "    model.load_state_dict(state_dict, strict=False)\n",
    "    model.eval()\n",
    "    return model\n",
    "\n",
    "class_names = ['Enjoyment', 'Disgust', 'Sadness', 'Anger', 'Surprise', 'Fear', 'Other']\n",
    "def infer(text, tokenizer, model, max_len=120):\n",
    "    text = ViTokenizer.tokenize(text)\n",
    "    encoded = tokenizer.encode_plus(\n",
    "        text, max_length=max_len, truncation=True, add_special_tokens=True,\n",
    "        padding='max_length', return_attention_mask=True, return_tensors='pt'\n",
    "    )\n",
    "    input_ids = encoded['input_ids'].to(device)\n",
    "    attention_mask = encoded['attention_mask'].to(device)\n",
    "    output = model(input_ids, attention_mask)\n",
    "    _, y_pred = torch.max(output, dim=1)\n",
    "    return output,class_names[y_pred]\n",
    "\n",
    "# Initialize device and class names\n",
    "device = torch.device('cuda' if torch.cuda.is_available() else 'cpu')"
   ]
  },
  {
   "cell_type": "code",
   "execution_count": 4,
   "metadata": {},
   "outputs": [
    {
     "name": "stderr",
     "output_type": "stream",
     "text": [
      "Some weights of XLMRobertaModel were not initialized from the model checkpoint at uitnlp/visobert and are newly initialized: ['roberta.pooler.dense.bias', 'roberta.pooler.dense.weight']\n",
      "You should probably TRAIN this model on a down-stream task to be able to use it for predictions and inference.\n",
      "C:\\Users\\APTS\\AppData\\Local\\Temp\\ipykernel_19080\\3719082247.py:38: FutureWarning: You are using `torch.load` with `weights_only=False` (the current default value), which uses the default pickle module implicitly. It is possible to construct malicious pickle data which will execute arbitrary code during unpickling (See https://github.com/pytorch/pytorch/blob/main/SECURITY.md#untrusted-models for more details). In a future release, the default value for `weights_only` will be flipped to `True`. This limits the functions that could be executed during unpickling. Arbitrary objects will no longer be allowed to be loaded via this mode unless they are explicitly allowlisted by the user via `torch.serialization.add_safe_globals`. We recommend you start setting `weights_only=True` for any use case where you don't have full control of the loaded file. Please open an issue on GitHub for any issues related to this experimental feature.\n",
      "  state_dict = torch.load(model_buffer, map_location=device)\n"
     ]
    }
   ],
   "source": [
    "tokenizer = AutoTokenizer.from_pretrained(\"uitnlp/visobert\")\n",
    "model = initialize_model(\"uitnlp/visobert\", 'models/visobert_fold6.pth')"
   ]
  },
  {
   "cell_type": "code",
   "execution_count": 33,
   "metadata": {},
   "outputs": [
    {
     "data": {
      "text/plain": [
       "(tensor([[-1.8984, -2.6308,  3.0371, -0.7220, -1.2088,  3.5465,  0.5451]],\n",
       "        grad_fn=<AddmmBackward0>),\n",
       " 'Fear')"
      ]
     },
     "execution_count": 33,
     "metadata": {},
     "output_type": "execute_result"
    }
   ],
   "source": [
    "infer('Điều đáng sợ nhất đối với mỗi người là mỗi ngày thức dậy. Và nhận ra trong cuộc sống mình không có người và điều gì để chờ đợi, cố gắng.', tokenizer,model)"
   ]
  },
  {
   "cell_type": "code",
   "execution_count": 21,
   "metadata": {},
   "outputs": [
    {
     "data": {
      "text/plain": [
       "(tensor([[-1.1149, -1.6407, -0.6472, -1.2589,  3.4264, -0.8914,  2.0067]],\n",
       "        grad_fn=<AddmmBackward0>),\n",
       " 'Surprise')"
      ]
     },
     "execution_count": 21,
     "metadata": {},
     "output_type": "execute_result"
    }
   ],
   "source": [
    "def test(model,test_path):\n",
    "    #test and print record that not true\n",
    "    df = pd.read_csv(test_path)\n",
    "    df['predict']=\n",
    "    if(df['predict']!=df['emotion']):\n",
    "        print(df[df['predict']!=df['label']])\n",
    "    return df"
   ]
  },
  {
   "cell_type": "code",
   "execution_count": null,
   "metadata": {},
   "outputs": [],
   "source": []
  }
 ],
 "metadata": {
  "kernelspec": {
   "display_name": "base",
   "language": "python",
   "name": "python3"
  },
  "language_info": {
   "codemirror_mode": {
    "name": "ipython",
    "version": 3
   },
   "file_extension": ".py",
   "mimetype": "text/x-python",
   "name": "python",
   "nbconvert_exporter": "python",
   "pygments_lexer": "ipython3",
   "version": "3.12.4"
  }
 },
 "nbformat": 4,
 "nbformat_minor": 2
}
